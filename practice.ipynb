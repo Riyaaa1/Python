{
 "cells": [
  {
   "cell_type": "code",
   "execution_count": 7,
   "metadata": {},
   "outputs": [
    {
     "name": "stdout",
     "output_type": "stream",
     "text": [
      "2\n"
     ]
    }
   ],
   "source": [
    "#Write a Python program to count the number of strings where the string length is 2 or more and \n",
    "#the first and last character are same from a given list of strings\n",
    "\n",
    "def match_words(words):\n",
    "    count = 0\n",
    "    for word in words:\n",
    "        if len(word)>=2 and word[0]==word[-1]:\n",
    "            count+=1\n",
    "    return count\n",
    "\n",
    "print(match_words( ['abc', 'xyz', 'aba', '1221']))"
   ]
  },
  {
   "cell_type": "code",
   "execution_count": 9,
   "metadata": {},
   "outputs": [
    {
     "name": "stdout",
     "output_type": "stream",
     "text": [
      "[(2, 1), (1, 2), (2, 3), (4, 4), (2, 5)]\n"
     ]
    }
   ],
   "source": [
    "#Write a Python program to get a list, \n",
    "#sorted in increasing order by the last element in each tuple from a given list of non-empty tuples\n",
    "def last(n):\n",
    "    return(n[-1])\n",
    "def list_sorted(tuples):\n",
    "    return sorted(tuples, key=last)\n",
    "print(list_sorted([(2, 5), (1, 2), (4, 4), (2, 3), (2, 1)]))"
   ]
  },
  {
   "cell_type": "code",
   "execution_count": 13,
   "metadata": {},
   "outputs": [
    {
     "name": "stdout",
     "output_type": "stream",
     "text": [
      "[1, 2, 3, 42, 134, 4, 34, 8, 9]\n",
      "{1, 2, 3, 4, 34, 134, 8, 9, 42}\n"
     ]
    }
   ],
   "source": [
    "#Write a Python program to remove duplicates from a list.\n",
    "a = [1,2,3,42,134,4,34,8,2,9,1]\n",
    "s = set()  # here we have created an empty set which will hold all the values in list a and remove any duplicates as set doesn't allow any duplicate values\n",
    "l = []\n",
    "for i in a:\n",
    "    if i not in s:\n",
    "        l.append(i)\n",
    "        s.add(i)\n",
    "print(s)\n",
    "\n"
   ]
  },
  {
   "cell_type": "code",
   "execution_count": 16,
   "metadata": {},
   "outputs": [
    {
     "name": "stdout",
     "output_type": "stream",
     "text": [
      "List is non-empty\n"
     ]
    }
   ],
   "source": [
    "# Write a Python program to check a list is empty or not.\n",
    "l = [1]\n",
    "if not l:\n",
    "    print(\"list is empty\")\n",
    "else:\n",
    "    print(\"List is non-empty\")\n"
   ]
  },
  {
   "cell_type": "code",
   "execution_count": 3,
   "metadata": {},
   "outputs": [
    {
     "name": "stdout",
     "output_type": "stream",
     "text": [
      "0 Apple\n",
      "1 ball\n",
      "2 cat\n",
      "3 dog\n"
     ]
    }
   ],
   "source": [
    "#Write a Python program access the index of a list\n",
    "l =['Apple','ball','cat','dog']\n",
    "for i in l:\n",
    "    print(l.index(i),i)"
   ]
  },
  {
   "cell_type": "code",
   "execution_count": 9,
   "metadata": {},
   "outputs": [
    {
     "data": {
      "text/plain": [
       "'java'"
      ]
     },
     "execution_count": 9,
     "metadata": {},
     "output_type": "execute_result"
    }
   ],
   "source": [
    "# Write a Python program to convert a list of characters into a string\n",
    "a = ['j','a','v','a']\n",
    "l = ''\n",
    "for i in a:\n",
    "    l +=i\n",
    "l\n"
   ]
  },
  {
   "cell_type": "code",
   "execution_count": 18,
   "metadata": {},
   "outputs": [
    {
     "name": "stdout",
     "output_type": "stream",
     "text": [
      "2\n"
     ]
    }
   ],
   "source": [
    "# Write a Python program to find the index of an item in a specified list\n",
    "a = ['apple','ball','cat','dog']\n",
    "item = input(\"Enter the item\").lower()\n",
    "for i in a:\n",
    "    if item == i :\n",
    "        print(a.index(item))\n"
   ]
  },
  {
   "cell_type": "code",
   "execution_count": 13,
   "metadata": {},
   "outputs": [
    {
     "name": "stdout",
     "output_type": "stream",
     "text": [
      "Twinkle, twinkle, little star,\n",
      "\thow I wonder what you are!\n",
      "\t\tUp above the world so high,\n",
      "\t\tLike a diamond in the sky.\n",
      "Twinkle, twinkle, little star,\n",
      "\tHow I wonder what you are\n"
     ]
    }
   ],
   "source": [
    "#Write a Python program to print the following string in a specific format (see the output)\n",
    "rhyme = 'Twinkle, twinkle, little star,\\n\\thow I wonder what you are!\\n\\t\\tUp above the world so high,\\n\\t\\tLike a diamond in the sky.\\nTwinkle, twinkle, little star,\\n\\tHow I wonder what you are'\n",
    "print(rhyme)"
   ]
  },
  {
   "cell_type": "code",
   "execution_count": 15,
   "metadata": {},
   "outputs": [
    {
     "name": "stdout",
     "output_type": "stream",
     "text": [
      "Python version\n",
      "3.9.12 (main, Apr  4 2022, 05:22:27) [MSC v.1916 64 bit (AMD64)]\n",
      "sys.version_info(major=3, minor=9, micro=12, releaselevel='final', serial=0)\n"
     ]
    }
   ],
   "source": [
    "# write a program to get the python version that you are using\n",
    "import sys\n",
    "print('Python version')\n",
    "print(sys.version)\n",
    "print(sys.version_info)"
   ]
  },
  {
   "cell_type": "code",
   "execution_count": 17,
   "metadata": {},
   "outputs": [
    {
     "name": "stdout",
     "output_type": "stream",
     "text": [
      "Current Date and Time is :\n",
      "2022-10-10 20:59:42\n"
     ]
    }
   ],
   "source": [
    "#Write a Python program to display the current date and time.\n",
    "import datetime as dt\n",
    "now = dt.datetime.now()\n",
    "print(\"Current Date and Time is :\")\n",
    "print(now.strftime(\"%Y-%m-%d %H:%M:%S\"))\n"
   ]
  },
  {
   "cell_type": "code",
   "execution_count": 22,
   "metadata": {},
   "outputs": [
    {
     "name": "stdout",
     "output_type": "stream",
     "text": [
      "Area of the circle is 3.8028571428571434\n"
     ]
    }
   ],
   "source": [
    "#Write a Python program which accepts the radius of a circle from the user and compute the area.\n",
    "r = float(input(\"Enter the radius of a circle\"))\n",
    "a = (22/7) * r **2\n",
    "print(f'Area of the circle is {a}')"
   ]
  },
  {
   "cell_type": "code",
   "execution_count": 23,
   "metadata": {},
   "outputs": [
    {
     "name": "stdout",
     "output_type": "stream",
     "text": [
      "Lamichhane Riya\n"
     ]
    }
   ],
   "source": [
    "#Write a Python program which accepts the user's first and last name and print them in reverse order with a space between them\n",
    "first_name = input(\"Enter your first name: \")\n",
    "last_name = input(\"Enter your last name: \")\n",
    "print(last_name+\" \"+first_name)"
   ]
  },
  {
   "cell_type": "code",
   "execution_count": 29,
   "metadata": {},
   "outputs": [
    {
     "name": "stdout",
     "output_type": "stream",
     "text": [
      "['3', ' 5', ' 7', ' 23']\n",
      "('3', ' 5', ' 7', ' 23')\n"
     ]
    }
   ],
   "source": [
    "#Write a Python program which accepts a sequence of comma-separated numbers from user and generate a list and a tuple with those numbers\n",
    "seq = input(\"Enter the numbers\").split(\",\")\n",
    "print(list(seq))\n",
    "print(tuple(seq))"
   ]
  },
  {
   "cell_type": "code",
   "execution_count": 33,
   "metadata": {},
   "outputs": [
    {
     "name": "stdout",
     "output_type": "stream",
     "text": [
      "java\n"
     ]
    }
   ],
   "source": [
    "#Write a Python program to accept a filename from the user and print the extension of that.\n",
    "file_name = input(\"Enter the file name:\").split(\".\")\n",
    "print(file_name[1])"
   ]
  },
  {
   "cell_type": "code",
   "execution_count": 36,
   "metadata": {},
   "outputs": [
    {
     "name": "stdout",
     "output_type": "stream",
     "text": [
      "Red Black\n"
     ]
    }
   ],
   "source": [
    "#Write a Python program to display the first and last colors from the following list\n",
    "color_list = [\"Red\",\"Green\",\"White\" ,\"Black\"]\n",
    "print(color_list[0]+\" \"+color_list[-1])"
   ]
  },
  {
   "cell_type": "code",
   "execution_count": 3,
   "metadata": {},
   "outputs": [
    {
     "name": "stdout",
     "output_type": "stream",
     "text": [
      " this is practice\n"
     ]
    }
   ],
   "source": [
    "print( ''' this is practice''')"
   ]
  },
  {
   "cell_type": "code",
   "execution_count": null,
   "metadata": {},
   "outputs": [],
   "source": []
  }
 ],
 "metadata": {
  "kernelspec": {
   "display_name": "Python 3.9.12 ('base')",
   "language": "python",
   "name": "python3"
  },
  "language_info": {
   "codemirror_mode": {
    "name": "ipython",
    "version": 3
   },
   "file_extension": ".py",
   "mimetype": "text/x-python",
   "name": "python",
   "nbconvert_exporter": "python",
   "pygments_lexer": "ipython3",
   "version": "3.9.12"
  },
  "orig_nbformat": 4,
  "vscode": {
   "interpreter": {
    "hash": "a077222d77dfe082b8f1dd562ad70e458ac2ab76993a0b248ab0476e32e9e8dd"
   }
  }
 },
 "nbformat": 4,
 "nbformat_minor": 2
}
