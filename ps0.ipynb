{
 "cells": [
  {
   "cell_type": "code",
   "execution_count": 1,
   "metadata": {},
   "outputs": [
    {
     "name": "stdout",
     "output_type": "stream",
     "text": [
      "[1, 7, 6, 2, 8, 7, 1, 7, 9, 6]\n"
     ]
    }
   ],
   "source": [
    "import random\n",
    "randlist=[]\n",
    "n = int(input(\"Enter the value of n\"))\n",
    "for i in range(n):\n",
    "    randlist.append(random.randint(1,n))\n",
    "print(randlist)"
   ]
  },
  {
   "cell_type": "code",
   "execution_count": 2,
   "metadata": {},
   "outputs": [
    {
     "name": "stdout",
     "output_type": "stream",
     "text": [
      "2.0\n"
     ]
    }
   ],
   "source": [
    "type(5)\n",
    "print(3.0-1)"
   ]
  },
  {
   "cell_type": "code",
   "execution_count": 4,
   "metadata": {},
   "outputs": [
    {
     "name": "stdout",
     "output_type": "stream",
     "text": [
      "74\n",
      "74\n"
     ]
    }
   ],
   "source": [
    "usa_gold = 46\n",
    "uk_gold = 27\n",
    "romania_gold = 1\n",
    "\n",
    "total_gold = usa_gold + uk_gold + romania_gold\n",
    "print(total_gold)\n",
    "\n",
    "romania_gold += 1\n",
    "print(total_gold)"
   ]
  },
  {
   "cell_type": "code",
   "execution_count": 8,
   "metadata": {},
   "outputs": [
    {
     "name": "stdout",
     "output_type": "stream",
     "text": [
      "4\n",
      "6\n",
      "8\n",
      "10\n",
      "32\n"
     ]
    }
   ],
   "source": [
    "mysum = 0\n",
    "for i in range(4,11,2):\n",
    "    mysum=mysum + i\n",
    "    print(i)\n",
    "    if mysum == 5:\n",
    "        break\n",
    "    mysum +=1\n",
    "\n",
    "print(mysum)"
   ]
  },
  {
   "cell_type": "code",
   "execution_count": 4,
   "metadata": {},
   "outputs": [
    {
     "name": "stdout",
     "output_type": "stream",
     "text": [
      "8\n",
      "1\n"
     ]
    }
   ],
   "source": [
    "# write a program that\n",
    "# asks the user to enter a number\"X\"\n",
    "x = int(input(\"Enter the number x: \"))\n",
    "# asks the user to enter a number\"y\"\n",
    "y = int(input(\"Enter the number y: \"))\n",
    "# prints out number \"X\",raised to the power\"y\"\n",
    "print(x**y)\n",
    "# prints out the log (base2)of \"X\"\n",
    "import math\n",
    "log_x = math.log(x,2)\n",
    "print(round(log_x))"
   ]
  },
  {
   "cell_type": "code",
   "execution_count": null,
   "metadata": {},
   "outputs": [],
   "source": []
  },
  {
   "cell_type": "code",
   "execution_count": null,
   "metadata": {},
   "outputs": [],
   "source": []
  }
 ],
 "metadata": {
  "kernelspec": {
   "display_name": "Python 3.9.12 ('base')",
   "language": "python",
   "name": "python3"
  },
  "language_info": {
   "codemirror_mode": {
    "name": "ipython",
    "version": 3
   },
   "file_extension": ".py",
   "mimetype": "text/x-python",
   "name": "python",
   "nbconvert_exporter": "python",
   "pygments_lexer": "ipython3",
   "version": "3.9.12"
  },
  "orig_nbformat": 4,
  "vscode": {
   "interpreter": {
    "hash": "a077222d77dfe082b8f1dd562ad70e458ac2ab76993a0b248ab0476e32e9e8dd"
   }
  }
 },
 "nbformat": 4,
 "nbformat_minor": 2
}
