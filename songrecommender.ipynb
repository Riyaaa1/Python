{
 "cells": [
  {
   "cell_type": "code",
   "execution_count": 29,
   "metadata": {},
   "outputs": [
    {
     "name": "stdout",
     "output_type": "stream",
     "text": [
      "Welcome to your personal music recommender:\n",
      "-------~~~~-------\n",
      "What about Hozier?\n",
      "yes\n"
     ]
    }
   ],
   "source": [
    "# a program that recommends you the song from some of the favourite artists and genre based on your mood\n",
    "import random\n",
    "import time\n",
    "# making a dictionary that maps few of my favorite music genres with few songs by the selected artists\n",
    "print(\"Welcome to your personal music recommender:\\n-------~~~~-------\")\n",
    "genre_artists={'R&B':{'Daniel Caeser':['Blue Jeans','Get you','Japenese Denim'],\n",
    "                      'HER':['comfortable','focus'],\n",
    "                     'Sabrina Claudio':['Warm december','Frozen','Confidently lost']},\n",
    "                'Classics':{'Frank Sinatra':['Fly me to the moon','The way you look tonight'],\n",
    "                            'Stevie wonder':[\"I just called to say I love you\",\"Isn't she lovely\"]},\n",
    "                'Blues':{'Hozier':['Cherry wine','Like Real people do','Movement'],\n",
    "                          'Arctic monkeys':[\"Why'd you only call me when you high?\",\"Do I wanna Know?\"]},\n",
    "                'Funk':{'Earth Wind & Fire':[\"September\",\"Let's Groove\"],\n",
    "                        'Bruno Mars':['Treasure','24K magic']}}\n",
    "\n",
    "# asks the user input for what kind of music they want to listen\n",
    "mood = input(\"What genre are you feeling right now?\")\n",
    "\n",
    "# based on the user's mood , recommend the artist , if user says yes to the artist\n",
    "user_wants = input(\"Type Yes/no :\").lower()\n",
    "if mood in genre_artists.keys():\n",
    "    option = genre_artists[mood]\n",
    "    recom_artist = random.choice(list(option.keys()))\n",
    "    print(f\"What about {recom_artist}?\")\n",
    "    time.sleep(3)\n",
    "    \n",
    "\n",
    "# if the user likes the artist ,recommend the song by the artist else, recommend next user\n",
    "# if the mood not in genre_artists.keys():\n",
    "# while mood in genre_artists.keys():\n",
    "# else: ValueError maybe???\n",
    "\n",
    "\n",
    "\n",
    "\n",
    "\n",
    "#  then return one song on a random,else recommend another artist and so on\n"
   ]
  },
  {
   "cell_type": "code",
   "execution_count": 55,
   "metadata": {},
   "outputs": [
    {
     "name": "stdout",
     "output_type": "stream",
     "text": [
      "Cherry wine\n",
      "Like Real people do\n",
      "Movement\n"
     ]
    }
   ],
   "source": [
    "\n",
    "for val in option[recom_artist]:\n",
    "    print(val)"
   ]
  }
 ],
 "metadata": {
  "kernelspec": {
   "display_name": "Python 3.9.12 ('base')",
   "language": "python",
   "name": "python3"
  },
  "language_info": {
   "codemirror_mode": {
    "name": "ipython",
    "version": 3
   },
   "file_extension": ".py",
   "mimetype": "text/x-python",
   "name": "python",
   "nbconvert_exporter": "python",
   "pygments_lexer": "ipython3",
   "version": "3.9.12"
  },
  "orig_nbformat": 4,
  "vscode": {
   "interpreter": {
    "hash": "a077222d77dfe082b8f1dd562ad70e458ac2ab76993a0b248ab0476e32e9e8dd"
   }
  }
 },
 "nbformat": 4,
 "nbformat_minor": 2
}
