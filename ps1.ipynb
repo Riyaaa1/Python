{
 "cells": [
  {
   "cell_type": "markdown",
   "metadata": {},
   "source": [
    " * house hunting(MIT intro to programming assignment)--\\\n",
    " Write a program to calculate how many months it will take you to save up enough money for a down\n",
    "payment. You will want your main variables to be floats, so you should cast user inputs to floats.\n"
   ]
  },
  {
   "cell_type": "code",
   "execution_count": 1,
   "metadata": {},
   "outputs": [
    {
     "name": "stdout",
     "output_type": "stream",
     "text": [
      "Number of months:  360\n"
     ]
    }
   ],
   "source": [
    "# ask the user input for the starting annual salary,portion of salary to be saved,total_cost of the house)\n",
    "annual_salary=float(input(\"Enter your annual salary: \"))\n",
    "portion_saved= float(input(\"Enter the percent of your monthly salary to be saved, in decimals: \"))\n",
    "total_cost = float(input(\"Enter the cost of your dream home:\"))\n",
    "\n",
    "current_savings = 0\n",
    "portion_down_payment = 0.25 * total_cost\n",
    "monthly_salary = annual_salary/12\n",
    "portion_saved_monthly = portion_saved*monthly_salary\n",
    "r = 0.04 # annual rate\n",
    "monthly_return = (current_savings*r)/12\n",
    "time = 0\n",
    "\n",
    "while (current_savings <= portion_down_payment):\n",
    "    time += 1\n",
    "    current_savings += portion_saved_monthly+monthly_return\n",
    "print(\"Number of months: \",time)\n",
    "    \n",
    "    \n"
   ]
  }
 ],
 "metadata": {
  "kernelspec": {
   "display_name": "Python 3.9.12 ('base')",
   "language": "python",
   "name": "python3"
  },
  "language_info": {
   "codemirror_mode": {
    "name": "ipython",
    "version": 3
   },
   "file_extension": ".py",
   "mimetype": "text/x-python",
   "name": "python",
   "nbconvert_exporter": "python",
   "pygments_lexer": "ipython3",
   "version": "3.9.12"
  },
  "orig_nbformat": 4,
  "vscode": {
   "interpreter": {
    "hash": "a077222d77dfe082b8f1dd562ad70e458ac2ab76993a0b248ab0476e32e9e8dd"
   }
  }
 },
 "nbformat": 4,
 "nbformat_minor": 2
}
