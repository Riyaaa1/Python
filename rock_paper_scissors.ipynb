{
 "cells": [
  {
   "cell_type": "code",
   "execution_count": 7,
   "metadata": {},
   "outputs": [
    {
     "name": "stdout",
     "output_type": "stream",
     "text": [
      "Welcome to rock,papers,scissors\n",
      "-------------\n",
      "computer chose rock.\n",
      "Rock smashes scissors.You lose! :(\n"
     ]
    }
   ],
   "source": [
    "import random\n",
    "options = ['rock','paper','scissors']\n",
    "print(\"Welcome to rock,papers,scissors\\n-------------\")\n",
    "total_rounds = 3\n",
    "player1= random.choice(options)\n",
    "player2 = input(\"Enter rock, paper or scissors:\")\n",
    "print(f\"computer chose {player1}.\")\n",
    "\n",
    "if player1 == player2:\n",
    "    print(f\"Both players selected {player2}. It's a tie!\")\n",
    "elif player2 =='rock':\n",
    "    if player1 == \"scissors\":\n",
    "        print(\"Rock smashes scissors.You win! :)\")\n",
    "    else:\n",
    "        print(\"paper covers rock.You lose! :(\")\n",
    "elif player2=='scissors':\n",
    "    if player1 == 'paper':\n",
    "        print(\"Scissor cuts paper.You win! :)\")\n",
    "    else:\n",
    "        print(\"Rock smashes scissors.You lose! :(\")\n",
    "elif player2 =='paper':\n",
    "    if player1 =='rock':\n",
    "        print('Paper covers rock.You win! :)')\n",
    "    else:\n",
    "        print(\"Scissor cuts paper.You lose! :(\")\n"
   ]
  }
 ],
 "metadata": {
  "kernelspec": {
   "display_name": "Python 3.9.12 ('base')",
   "language": "python",
   "name": "python3"
  },
  "language_info": {
   "codemirror_mode": {
    "name": "ipython",
    "version": 3
   },
   "file_extension": ".py",
   "mimetype": "text/x-python",
   "name": "python",
   "nbconvert_exporter": "python",
   "pygments_lexer": "ipython3",
   "version": "3.9.12"
  },
  "orig_nbformat": 4,
  "vscode": {
   "interpreter": {
    "hash": "a077222d77dfe082b8f1dd562ad70e458ac2ab76993a0b248ab0476e32e9e8dd"
   }
  }
 },
 "nbformat": 4,
 "nbformat_minor": 2
}
