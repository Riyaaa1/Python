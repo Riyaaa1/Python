{
 "cells": [
  {
   "cell_type": "code",
   "execution_count": 1,
   "metadata": {},
   "outputs": [
    {
     "name": "stdout",
     "output_type": "stream",
     "text": [
      "['Aapo', 'Eero', 'Juhani', 'Lauri', 'Simeoni', 'Timo', 'Tuomas']\n"
     ]
    }
   ],
   "source": [
    "# Given an expression string x.\n",
    "#  Examine whether the pairs and the orders of “{“,”}”,”(“,”)”,”[“,”]” are correct in exp.\n",
    "#For example, the function should return 'true' for exp = “[()]{}{[()()]()}” \n",
    "# and 'false' for exp = “[(])”.\n",
    "\n",
    "brothers = ['Simeoni','Juhani','Eero','Lauri',\"Aapo\",'Tuomas','Timo']\n",
    "print(sorted(brothers))"
   ]
  },
  {
   "cell_type": "code",
   "execution_count": 4,
   "metadata": {},
   "outputs": [
    {
     "ename": "SyntaxError",
     "evalue": "expression cannot contain assignment, perhaps you meant \"==\"? (1738268811.py, line 17)",
     "output_type": "error",
     "traceback": [
      "\u001b[1;36m  Input \u001b[1;32mIn [4]\u001b[1;36m\u001b[0m\n\u001b[1;33m    print(f\"{num1}+{sign}+{num2}+\"=\"+{result}\")\u001b[0m\n\u001b[1;37m          ^\u001b[0m\n\u001b[1;31mSyntaxError\u001b[0m\u001b[1;31m:\u001b[0m expression cannot contain assignment, perhaps you meant \"==\"?\n"
     ]
    }
   ],
   "source": [
    "# Write your solution here\n",
    "num1 = int(input(\"Number 1: \"))\n",
    "num2 = int(input(\"Number 2: \"))\n",
    "operation = input(\"Operation: \")\n",
    "Operations = {'add':'+','subract':'-','multiply':'*'}\n",
    "sign = Operations[operation]\n",
    "for operation in Operations:\n",
    "\n",
    "    if operation =='add':\n",
    "        result = num1 + num2\n",
    "    elif operation == 'subtract':\n",
    "        result = num1 - num2\n",
    "    elif operation == 'multiply':\n",
    "        result = num1 * num2\n",
    "    else:\n",
    "        pass\n",
    "print(f\"{num1}+{sign}+{num2}+\"=\"+{result}\")"
   ]
  }
 ],
 "metadata": {
  "kernelspec": {
   "display_name": "Python 3.9.12 ('base')",
   "language": "python",
   "name": "python3"
  },
  "language_info": {
   "codemirror_mode": {
    "name": "ipython",
    "version": 3
   },
   "file_extension": ".py",
   "mimetype": "text/x-python",
   "name": "python",
   "nbconvert_exporter": "python",
   "pygments_lexer": "ipython3",
   "version": "3.9.12"
  },
  "orig_nbformat": 4,
  "vscode": {
   "interpreter": {
    "hash": "a077222d77dfe082b8f1dd562ad70e458ac2ab76993a0b248ab0476e32e9e8dd"
   }
  }
 },
 "nbformat": 4,
 "nbformat_minor": 2
}
