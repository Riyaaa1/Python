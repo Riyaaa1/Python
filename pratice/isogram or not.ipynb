{
 "cells": [
  {
   "cell_type": "code",
   "execution_count": 16,
   "metadata": {},
   "outputs": [
    {
     "name": "stdout",
     "output_type": "stream",
     "text": [
      "An isogram\n",
      "Not an isogram\n"
     ]
    }
   ],
   "source": [
    "# an isogram is the word or phrase that has no repeating letters \n",
    "def isogram_or_not(text):\n",
    "\n",
    "    word = text.lower()\n",
    "\n",
    "    letter_list = []\n",
    "\n",
    "    for character in word:\n",
    "# checks if the character in the word is alphabet or not  \n",
    "        if character.isalpha():\n",
    "            if character in letter_list:\n",
    "                return \"Not an isogram\"\n",
    "            letter_list.append(character)\n",
    "\n",
    "    return \"An isogram\"\n",
    "\n",
    "\n",
    "if __name__ == \"__main__\":\n",
    "    print(isogram_or_not('lumberjacks'))\n",
    "    print(isogram_or_not('apple'))\n",
    "\n",
    "\n"
   ]
  },
  {
   "cell_type": "code",
   "execution_count": null,
   "metadata": {},
   "outputs": [],
   "source": []
  },
  {
   "cell_type": "code",
   "execution_count": null,
   "metadata": {},
   "outputs": [],
   "source": []
  }
 ],
 "metadata": {
  "kernelspec": {
   "display_name": "Python 3.9.12 ('base')",
   "language": "python",
   "name": "python3"
  },
  "language_info": {
   "codemirror_mode": {
    "name": "ipython",
    "version": 3
   },
   "file_extension": ".py",
   "mimetype": "text/x-python",
   "name": "python",
   "nbconvert_exporter": "python",
   "pygments_lexer": "ipython3",
   "version": "3.9.12"
  },
  "orig_nbformat": 4,
  "vscode": {
   "interpreter": {
    "hash": "a077222d77dfe082b8f1dd562ad70e458ac2ab76993a0b248ab0476e32e9e8dd"
   }
  }
 },
 "nbformat": 4,
 "nbformat_minor": 2
}
